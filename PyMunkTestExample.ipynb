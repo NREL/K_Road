{
 "cells": [
  {
   "cell_type": "code",
   "execution_count": null,
   "metadata": {},
   "outputs": [],
   "source": [
    "import sys, random\n",
    "import pygame\n",
    "from pygame.locals import *\n",
    "import pymunk\n",
    "import pymunk.pygame_util\n",
    "\n",
    "def add_ball(space):\n",
    "    \"\"\"Add a ball to the given space at a random position\"\"\"\n",
    "    mass = 1\n",
    "    radius = 14\n",
    "    inertia = pymunk.moment_for_circle(mass, 0, radius, (0,0))\n",
    "    body = pymunk.Body(mass, inertia)\n",
    "    x = random.randint(120,380)\n",
    "    body.position = x, 550\n",
    "    shape = pymunk.Circle(body, radius, (0,0))\n",
    "    space.add(body, shape)\n",
    "    return shape\n",
    "\n",
    "def add_L(space):\n",
    "    \"\"\"Add a inverted L shape with two joints\"\"\"\n",
    "    rotation_center_body = pymunk.Body(body_type = pymunk.Body.STATIC)\n",
    "    rotation_center_body.position = (300,300)\n",
    "\n",
    "    rotation_limit_body = pymunk.Body(body_type = pymunk.Body.STATIC)\n",
    "    rotation_limit_body.position = (200,300)\n",
    "\n",
    "    body = pymunk.Body(10, 10000)\n",
    "    body.position = (300,300)\n",
    "    l1 = pymunk.Segment(body, (-150, 0), (255.0, 0.0), 5.0)\n",
    "    l2 = pymunk.Segment(body, (-150.0, 0), (-150.0, 50.0), 5.0)\n",
    "\n",
    "    rotation_center_joint = pymunk.PinJoint(body, rotation_center_body, (0,0), (0,0))\n",
    "    joint_limit = 25\n",
    "    rotation_limit_joint = pymunk.SlideJoint(body, rotation_limit_body, (-100,0), (0,0), 0, joint_limit)\n",
    "\n",
    "    space.add(l1, l2, body, rotation_center_joint, rotation_limit_joint)\n",
    "    return l1,l2\n",
    "\n",
    "def main():\n",
    "    pygame.init()\n",
    "    screen = pygame.display.set_mode((600, 600))\n",
    "    pygame.display.set_caption(\"Joints. Just wait and the L will tip over\")\n",
    "    clock = pygame.time.Clock()\n",
    "\n",
    "    space = pymunk.Space()\n",
    "    space.gravity = (0.0, -9.81)\n",
    "\n",
    "    lines = add_L(space)\n",
    "    balls = []\n",
    "    draw_options = pymunk.pygame_util.DrawOptions(screen)\n",
    "\n",
    "    ticks_to_next_ball = 10\n",
    "    while True:\n",
    "        for event in pygame.event.get():\n",
    "            if event.type == QUIT:\n",
    "                sys.exit(0)\n",
    "            elif event.type == KEYDOWN and event.key == K_ESCAPE:\n",
    "                sys.exit(0)\n",
    "\n",
    "        ticks_to_next_ball -= 1\n",
    "        if ticks_to_next_ball <= 0:\n",
    "            ticks_to_next_ball = 25\n",
    "            ball_shape = add_ball(space)\n",
    "            balls.append(ball_shape)\n",
    "\n",
    "        screen.fill((255,255,255))\n",
    "\n",
    "        balls_to_remove = []\n",
    "        for ball in balls:\n",
    "            if ball.body.position.y < 150:\n",
    "                balls_to_remove.append(ball)\n",
    "\n",
    "        for ball in balls_to_remove:\n",
    "            space.remove(ball, ball.body)\n",
    "            balls.remove(ball)\n",
    "\n",
    "        space.debug_draw(draw_options)\n",
    "\n",
    "        space.step(1/50.0)\n",
    "\n",
    "        pygame.display.flip()\n",
    "        clock.tick(50)\n",
    "\n",
    "if __name__ == '__main__':\n",
    "    main()"
   ]
  },
  {
   "cell_type": "code",
   "execution_count": 17,
   "metadata": {},
   "outputs": [
    {
     "name": "stdout",
     "output_type": "stream",
     "text": [
      "1 2\n",
      "(1, 2)\n",
      "[1, 2]\n"
     ]
    }
   ],
   "source": [
    "print (1,2)\n",
    "x = (1,2)\n",
    "print(x)\n",
    "y= [1,2]\n",
    "print(y)"
   ]
  },
  {
   "cell_type": "code",
   "execution_count": null,
   "metadata": {},
   "outputs": [],
   "source": []
  }
 ],
 "metadata": {
  "kernelspec": {
   "display_name": "Python 3",
   "language": "python",
   "name": "python3"
  },
  "language_info": {
   "codemirror_mode": {
    "name": "ipython",
    "version": 3
   },
   "file_extension": ".py",
   "mimetype": "text/x-python",
   "name": "python",
   "nbconvert_exporter": "python",
   "pygments_lexer": "ipython3",
   "version": "3.6.8"
  }
 },
 "nbformat": 4,
 "nbformat_minor": 2
}
